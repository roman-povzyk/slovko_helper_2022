{
 "cells": [
  {
   "cell_type": "markdown",
   "metadata": {},
   "source": [
    "## Помічник у грі «Словко» / 11-02-2022"
   ]
  },
  {
   "cell_type": "markdown",
   "metadata": {},
   "source": [
    "### 1. Завантажуємо помічника у Jupiter"
   ]
  },
  {
   "cell_type": "code",
   "execution_count": 1,
   "metadata": {},
   "outputs": [],
   "source": [
    "import pandas as pd"
   ]
  },
  {
   "cell_type": "code",
   "execution_count": 13,
   "metadata": {},
   "outputs": [
    {
     "data": {
      "text/html": [
       "<div>\n",
       "<style scoped>\n",
       "    .dataframe tbody tr th:only-of-type {\n",
       "        vertical-align: middle;\n",
       "    }\n",
       "\n",
       "    .dataframe tbody tr th {\n",
       "        vertical-align: top;\n",
       "    }\n",
       "\n",
       "    .dataframe thead th {\n",
       "        text-align: right;\n",
       "    }\n",
       "</style>\n",
       "<table border=\"1\" class=\"dataframe\">\n",
       "  <thead>\n",
       "    <tr style=\"text-align: right;\">\n",
       "      <th></th>\n",
       "      <th>word</th>\n",
       "    </tr>\n",
       "  </thead>\n",
       "  <tbody>\n",
       "    <tr>\n",
       "      <th>0</th>\n",
       "      <td>абзац</td>\n",
       "    </tr>\n",
       "    <tr>\n",
       "      <th>1</th>\n",
       "      <td>абиде</td>\n",
       "    </tr>\n",
       "    <tr>\n",
       "      <th>2</th>\n",
       "      <td>абияк</td>\n",
       "    </tr>\n",
       "    <tr>\n",
       "      <th>3</th>\n",
       "      <td>аборт</td>\n",
       "    </tr>\n",
       "    <tr>\n",
       "      <th>4</th>\n",
       "      <td>абрек</td>\n",
       "    </tr>\n",
       "  </tbody>\n",
       "</table>\n",
       "</div>"
      ],
      "text/plain": [
       "    word\n",
       "0  абзац\n",
       "1  абиде\n",
       "2  абияк\n",
       "3  аборт\n",
       "4  абрек"
      ]
     },
     "execution_count": 13,
     "metadata": {},
     "output_type": "execute_result"
    }
   ],
   "source": [
    "slovko = pd.read_csv('word.csv', encoding='Windows-1251')\n",
    "slovko.head()"
   ]
  },
  {
   "cell_type": "code",
   "execution_count": 14,
   "metadata": {},
   "outputs": [
    {
     "name": "stdout",
     "output_type": "stream",
     "text": [
      "Маємо 5488 варіантів.\n"
     ]
    }
   ],
   "source": [
    "print(f'Маємо {slovko.shape[0]} варіантів.')"
   ]
  },
  {
   "cell_type": "markdown",
   "metadata": {},
   "source": [
    "### 2. Розбиваємо слово на літери"
   ]
  },
  {
   "cell_type": "code",
   "execution_count": 15,
   "metadata": {},
   "outputs": [
    {
     "data": {
      "text/html": [
       "<div>\n",
       "<style scoped>\n",
       "    .dataframe tbody tr th:only-of-type {\n",
       "        vertical-align: middle;\n",
       "    }\n",
       "\n",
       "    .dataframe tbody tr th {\n",
       "        vertical-align: top;\n",
       "    }\n",
       "\n",
       "    .dataframe thead th {\n",
       "        text-align: right;\n",
       "    }\n",
       "</style>\n",
       "<table border=\"1\" class=\"dataframe\">\n",
       "  <thead>\n",
       "    <tr style=\"text-align: right;\">\n",
       "      <th></th>\n",
       "      <th>word</th>\n",
       "      <th>one</th>\n",
       "      <th>two</th>\n",
       "      <th>three</th>\n",
       "      <th>four</th>\n",
       "      <th>five</th>\n",
       "    </tr>\n",
       "  </thead>\n",
       "  <tbody>\n",
       "    <tr>\n",
       "      <th>0</th>\n",
       "      <td>абзац</td>\n",
       "      <td>а</td>\n",
       "      <td>б</td>\n",
       "      <td>з</td>\n",
       "      <td>а</td>\n",
       "      <td>ц</td>\n",
       "    </tr>\n",
       "    <tr>\n",
       "      <th>1</th>\n",
       "      <td>абиде</td>\n",
       "      <td>а</td>\n",
       "      <td>б</td>\n",
       "      <td>и</td>\n",
       "      <td>д</td>\n",
       "      <td>е</td>\n",
       "    </tr>\n",
       "    <tr>\n",
       "      <th>2</th>\n",
       "      <td>абияк</td>\n",
       "      <td>а</td>\n",
       "      <td>б</td>\n",
       "      <td>и</td>\n",
       "      <td>я</td>\n",
       "      <td>к</td>\n",
       "    </tr>\n",
       "    <tr>\n",
       "      <th>3</th>\n",
       "      <td>аборт</td>\n",
       "      <td>а</td>\n",
       "      <td>б</td>\n",
       "      <td>о</td>\n",
       "      <td>р</td>\n",
       "      <td>т</td>\n",
       "    </tr>\n",
       "    <tr>\n",
       "      <th>4</th>\n",
       "      <td>абрек</td>\n",
       "      <td>а</td>\n",
       "      <td>б</td>\n",
       "      <td>р</td>\n",
       "      <td>е</td>\n",
       "      <td>к</td>\n",
       "    </tr>\n",
       "  </tbody>\n",
       "</table>\n",
       "</div>"
      ],
      "text/plain": [
       "    word one two three four five\n",
       "0  абзац   а   б     з    а    ц\n",
       "1  абиде   а   б     и    д    е\n",
       "2  абияк   а   б     и    я    к\n",
       "3  аборт   а   б     о    р    т\n",
       "4  абрек   а   б     р    е    к"
      ]
     },
     "execution_count": 15,
     "metadata": {},
     "output_type": "execute_result"
    }
   ],
   "source": [
    "slovko['one'] = slovko['word'].astype(str).str[0]\n",
    "slovko['two'] = slovko['word'].astype(str).str[1]\n",
    "slovko['three'] = slovko['word'].astype(str).str[2]\n",
    "slovko['four'] = slovko['word'].astype(str).str[3]\n",
    "slovko['five'] = slovko['word'].astype(str).str[4]\n",
    "slovko.head()"
   ]
  },
  {
   "cell_type": "markdown",
   "metadata": {},
   "source": [
    "### 3. Просимо допомогу після першої спроби"
   ]
  },
  {
   "cell_type": "code",
   "execution_count": 16,
   "metadata": {},
   "outputs": [
    {
     "data": {
      "text/html": [
       "<div>\n",
       "<style scoped>\n",
       "    .dataframe tbody tr th:only-of-type {\n",
       "        vertical-align: middle;\n",
       "    }\n",
       "\n",
       "    .dataframe tbody tr th {\n",
       "        vertical-align: top;\n",
       "    }\n",
       "\n",
       "    .dataframe thead th {\n",
       "        text-align: right;\n",
       "    }\n",
       "</style>\n",
       "<table border=\"1\" class=\"dataframe\">\n",
       "  <thead>\n",
       "    <tr style=\"text-align: right;\">\n",
       "      <th></th>\n",
       "      <th>word</th>\n",
       "      <th>one</th>\n",
       "      <th>two</th>\n",
       "      <th>three</th>\n",
       "      <th>four</th>\n",
       "      <th>five</th>\n",
       "    </tr>\n",
       "  </thead>\n",
       "  <tbody>\n",
       "    <tr>\n",
       "      <th>95</th>\n",
       "      <td>бевзь</td>\n",
       "      <td>б</td>\n",
       "      <td>е</td>\n",
       "      <td>в</td>\n",
       "      <td>з</td>\n",
       "      <td>ь</td>\n",
       "    </tr>\n",
       "    <tr>\n",
       "      <th>107</th>\n",
       "      <td>битки</td>\n",
       "      <td>б</td>\n",
       "      <td>и</td>\n",
       "      <td>т</td>\n",
       "      <td>к</td>\n",
       "      <td>и</td>\n",
       "    </tr>\n",
       "    <tr>\n",
       "      <th>109</th>\n",
       "      <td>битюг</td>\n",
       "      <td>б</td>\n",
       "      <td>и</td>\n",
       "      <td>т</td>\n",
       "      <td>ю</td>\n",
       "      <td>г</td>\n",
       "    </tr>\n",
       "    <tr>\n",
       "      <th>110</th>\n",
       "      <td>бичня</td>\n",
       "      <td>б</td>\n",
       "      <td>и</td>\n",
       "      <td>ч</td>\n",
       "      <td>н</td>\n",
       "      <td>я</td>\n",
       "    </tr>\n",
       "    <tr>\n",
       "      <th>130</th>\n",
       "      <td>блеск</td>\n",
       "      <td>б</td>\n",
       "      <td>л</td>\n",
       "      <td>е</td>\n",
       "      <td>с</td>\n",
       "      <td>к</td>\n",
       "    </tr>\n",
       "  </tbody>\n",
       "</table>\n",
       "</div>"
      ],
      "text/plain": [
       "      word one two three four five\n",
       "95   бевзь   б   е     в    з    ь\n",
       "107  битки   б   и     т    к    и\n",
       "109  битюг   б   и     т    ю    г\n",
       "110  бичня   б   и     ч    н    я\n",
       "130  блеск   б   л     е    с    к"
      ]
     },
     "execution_count": 16,
     "metadata": {},
     "output_type": "execute_result"
    }
   ],
   "source": [
    "first = slovko.query(\"(one != 'а' & two != 'а' & three != 'а' & four != 'а' & five != 'а')\")\n",
    "first = first.query(\"(one != 'у' & two != 'у' & three != 'у' & four != 'у' & five != 'у')\")\n",
    "first = first.query(\"(one != 'д' & two != 'д' & three != 'д' & four != 'д' & five != 'д')\")\n",
    "first = first.query(\"(one != 'і' & two != 'і' & three != 'і' & four != 'і' & five != 'і')\")\n",
    "first = first.query(\"(one != 'о' & two != 'о' & three != 'о' & four != 'о' & five != 'о')\")\n",
    "first.head()"
   ]
  },
  {
   "cell_type": "code",
   "execution_count": 17,
   "metadata": {},
   "outputs": [
    {
     "name": "stdout",
     "output_type": "stream",
     "text": [
      "Маємо 535 варіантів.\n"
     ]
    }
   ],
   "source": [
    "print(f'Маємо {first.shape[0]} варіантів.')"
   ]
  },
  {
   "cell_type": "markdown",
   "metadata": {},
   "source": [
    "### 4. Просимо допомогу після другої спроби."
   ]
  },
  {
   "cell_type": "code",
   "execution_count": 18,
   "metadata": {},
   "outputs": [
    {
     "data": {
      "text/html": [
       "<div>\n",
       "<style scoped>\n",
       "    .dataframe tbody tr th:only-of-type {\n",
       "        vertical-align: middle;\n",
       "    }\n",
       "\n",
       "    .dataframe tbody tr th {\n",
       "        vertical-align: top;\n",
       "    }\n",
       "\n",
       "    .dataframe thead th {\n",
       "        text-align: right;\n",
       "    }\n",
       "</style>\n",
       "<table border=\"1\" class=\"dataframe\">\n",
       "  <thead>\n",
       "    <tr style=\"text-align: right;\">\n",
       "      <th></th>\n",
       "      <th>word</th>\n",
       "      <th>one</th>\n",
       "      <th>two</th>\n",
       "      <th>three</th>\n",
       "      <th>four</th>\n",
       "      <th>five</th>\n",
       "    </tr>\n",
       "  </thead>\n",
       "  <tbody>\n",
       "    <tr>\n",
       "      <th>249</th>\n",
       "      <td>велич</td>\n",
       "      <td>в</td>\n",
       "      <td>е</td>\n",
       "      <td>л</td>\n",
       "      <td>и</td>\n",
       "      <td>ч</td>\n",
       "    </tr>\n",
       "    <tr>\n",
       "      <th>296</th>\n",
       "      <td>геник</td>\n",
       "      <td>г</td>\n",
       "      <td>е</td>\n",
       "      <td>н</td>\n",
       "      <td>и</td>\n",
       "      <td>к</td>\n",
       "    </tr>\n",
       "    <tr>\n",
       "      <th>356</th>\n",
       "      <td>екзил</td>\n",
       "      <td>е</td>\n",
       "      <td>к</td>\n",
       "      <td>з</td>\n",
       "      <td>и</td>\n",
       "      <td>л</td>\n",
       "    </tr>\n",
       "    <tr>\n",
       "      <th>361</th>\n",
       "      <td>євген</td>\n",
       "      <td>є</td>\n",
       "      <td>в</td>\n",
       "      <td>г</td>\n",
       "      <td>е</td>\n",
       "      <td>н</td>\n",
       "    </tr>\n",
       "    <tr>\n",
       "      <th>428</th>\n",
       "      <td>келех</td>\n",
       "      <td>к</td>\n",
       "      <td>е</td>\n",
       "      <td>л</td>\n",
       "      <td>е</td>\n",
       "      <td>х</td>\n",
       "    </tr>\n",
       "    <tr>\n",
       "      <th>...</th>\n",
       "      <td>...</td>\n",
       "      <td>...</td>\n",
       "      <td>...</td>\n",
       "      <td>...</td>\n",
       "      <td>...</td>\n",
       "      <td>...</td>\n",
       "    </tr>\n",
       "    <tr>\n",
       "      <th>4896</th>\n",
       "      <td>чисте</td>\n",
       "      <td>ч</td>\n",
       "      <td>и</td>\n",
       "      <td>с</td>\n",
       "      <td>т</td>\n",
       "      <td>е</td>\n",
       "    </tr>\n",
       "    <tr>\n",
       "      <th>4968</th>\n",
       "      <td>шелех</td>\n",
       "      <td>ш</td>\n",
       "      <td>е</td>\n",
       "      <td>л</td>\n",
       "      <td>е</td>\n",
       "      <td>х</td>\n",
       "    </tr>\n",
       "    <tr>\n",
       "      <th>4970</th>\n",
       "      <td>шеляг</td>\n",
       "      <td>ш</td>\n",
       "      <td>е</td>\n",
       "      <td>л</td>\n",
       "      <td>я</td>\n",
       "      <td>г</td>\n",
       "    </tr>\n",
       "    <tr>\n",
       "      <th>5072</th>\n",
       "      <td>щебет</td>\n",
       "      <td>щ</td>\n",
       "      <td>е</td>\n",
       "      <td>б</td>\n",
       "      <td>е</td>\n",
       "      <td>т</td>\n",
       "    </tr>\n",
       "    <tr>\n",
       "      <th>5077</th>\n",
       "      <td>щезле</td>\n",
       "      <td>щ</td>\n",
       "      <td>е</td>\n",
       "      <td>з</td>\n",
       "      <td>л</td>\n",
       "      <td>е</td>\n",
       "    </tr>\n",
       "  </tbody>\n",
       "</table>\n",
       "<p>100 rows × 6 columns</p>\n",
       "</div>"
      ],
      "text/plain": [
       "       word one two three four five\n",
       "249   велич   в   е     л    и    ч\n",
       "296   геник   г   е     н    и    к\n",
       "356   екзил   е   к     з    и    л\n",
       "361   євген   є   в     г    е    н\n",
       "428   келех   к   е     л    е    х\n",
       "...     ...  ..  ..   ...  ...  ...\n",
       "4896  чисте   ч   и     с    т    е\n",
       "4968  шелех   ш   е     л    е    х\n",
       "4970  шеляг   ш   е     л    я    г\n",
       "5072  щебет   щ   е     б    е    т\n",
       "5077  щезле   щ   е     з    л    е\n",
       "\n",
       "[100 rows x 6 columns]"
      ]
     },
     "execution_count": 18,
     "metadata": {},
     "output_type": "execute_result"
    }
   ],
   "source": [
    "second = first.query(\"(one != 'м' & two != 'м' & three != 'м' & four != 'м' & five != 'м')\")\n",
    "second = second.query(\"(one != 'р' & two != 'р' & three != 'р' & four != 'р' & five != 'р')\")\n",
    "second = second.query(\"(one == 'е' | two == 'е' | four == 'е' | five == 'е') & (three != 'е')\")\n",
    "second = second.query(\"(one != 'ц' & two != 'ц' & three != 'ц' & four != 'ц' & five != 'ц')\")\n",
    "second = second.query(\"(one != 'ь' & two != 'ь' & three != 'ь' & four != 'ь' & five != 'ь')\")\n",
    "second.head(n=100)"
   ]
  },
  {
   "cell_type": "code",
   "execution_count": 19,
   "metadata": {},
   "outputs": [
    {
     "name": "stdout",
     "output_type": "stream",
     "text": [
      "Маємо 105 варіантів.\n"
     ]
    }
   ],
   "source": [
    "print(f'Маємо {second.shape[0]} варіантів.')"
   ]
  },
  {
   "cell_type": "markdown",
   "metadata": {},
   "source": [
    "### 5. Просимо допомогу після третьої спроби."
   ]
  },
  {
   "cell_type": "code",
   "execution_count": 20,
   "metadata": {},
   "outputs": [
    {
     "data": {
      "text/html": [
       "<div>\n",
       "<style scoped>\n",
       "    .dataframe tbody tr th:only-of-type {\n",
       "        vertical-align: middle;\n",
       "    }\n",
       "\n",
       "    .dataframe tbody tr th {\n",
       "        vertical-align: top;\n",
       "    }\n",
       "\n",
       "    .dataframe thead th {\n",
       "        text-align: right;\n",
       "    }\n",
       "</style>\n",
       "<table border=\"1\" class=\"dataframe\">\n",
       "  <thead>\n",
       "    <tr style=\"text-align: right;\">\n",
       "      <th></th>\n",
       "      <th>word</th>\n",
       "      <th>one</th>\n",
       "      <th>two</th>\n",
       "      <th>three</th>\n",
       "      <th>four</th>\n",
       "      <th>five</th>\n",
       "    </tr>\n",
       "  </thead>\n",
       "  <tbody>\n",
       "    <tr>\n",
       "      <th>296</th>\n",
       "      <td>геник</td>\n",
       "      <td>г</td>\n",
       "      <td>е</td>\n",
       "      <td>н</td>\n",
       "      <td>и</td>\n",
       "      <td>к</td>\n",
       "    </tr>\n",
       "  </tbody>\n",
       "</table>\n",
       "</div>"
      ],
      "text/plain": [
       "      word one two three four five\n",
       "296  геник   г   е     н    и    к"
      ]
     },
     "execution_count": 20,
     "metadata": {},
     "output_type": "execute_result"
    }
   ],
   "source": [
    "third = second.query(\"(one != 'б' & two != 'б' & three != 'б' & four != 'б' & five != 'б')\")\n",
    "third = third.query(\"(one != 'л' & two != 'л' & three != 'л' & four != 'л' & five != 'л')\")\n",
    "third = third.query(\"(one == 'и' | two == 'и' | four == 'и' | five == 'и') & (three != 'и')\")\n",
    "third = third.query(\"(one != 'с' & two != 'с' & three != 'с' & four != 'с' & five != 'с')\")\n",
    "third = third.query(\"(five == 'к')\")\n",
    "third.head(n=100)"
   ]
  },
  {
   "cell_type": "code",
   "execution_count": 21,
   "metadata": {},
   "outputs": [
    {
     "name": "stdout",
     "output_type": "stream",
     "text": [
      "Маємо 1 варіантів.\n"
     ]
    }
   ],
   "source": [
    "print(f'Маємо {third.shape[0]} варіантів.')"
   ]
  },
  {
   "cell_type": "code",
   "execution_count": null,
   "metadata": {},
   "outputs": [],
   "source": []
  }
 ],
 "metadata": {
  "kernelspec": {
   "display_name": "Python 3",
   "language": "python",
   "name": "python3"
  },
  "language_info": {
   "codemirror_mode": {
    "name": "ipython",
    "version": 3
   },
   "file_extension": ".py",
   "mimetype": "text/x-python",
   "name": "python",
   "nbconvert_exporter": "python",
   "pygments_lexer": "ipython3",
   "version": "3.7.6"
  }
 },
 "nbformat": 4,
 "nbformat_minor": 4
}
